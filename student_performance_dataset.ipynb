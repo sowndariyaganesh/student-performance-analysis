{
 "cells": [
  {
   "cell_type": "code",
   "execution_count": 41,
   "id": "d0d93f61",
   "metadata": {},
   "outputs": [],
   "source": [
    "import pandas as pd\n",
    "import numpy as np\n",
    "import matplotlib.pyplot as plt\n",
    "import seaborn as sns\n",
    "from sklearn.model_selection import train_test_split\n",
    "from sklearn.linear_model import LinearRegression\n",
    "from sklearn.metrics import mean_squared_error, r2_score\n",
    "from pandas import Index\n",
    "\n"
   ]
  },
  {
   "cell_type": "code",
   "execution_count": 42,
   "id": "59697f59",
   "metadata": {},
   "outputs": [
    {
     "name": "stdout",
     "output_type": "stream",
     "text": [
      "      Name  Hours_Studied  Past_Paper_Score  Attendance_Percentage Gender  \\\n",
      "0    Alice              1                35                     70      F   \n",
      "1      Bob              2                45                     75      M   \n",
      "2  Charlie              3                50                     80      M   \n",
      "3    David              4                55                     85      M   \n",
      "4      Eva              5                58                     90      F   \n",
      "\n",
      "   Subject  Final_Score  \n",
      "0     Math           40  \n",
      "1    Tamil           48  \n",
      "2     Math           52  \n",
      "3  English           60  \n",
      "4    Tamil           65  \n"
     ]
    }
   ],
   "source": [
    "import pandas as pd\n",
    "\n",
    "df = pd.read_csv(r'C:\\Users\\Sowndariya G\\OneDrive\\Desktop\\AI&ML\\student_performance_dataset (1).csv')\n",
    "print(df.head())\n"
   ]
  },
  {
   "cell_type": "code",
   "execution_count": 43,
   "id": "46c90d2b",
   "metadata": {},
   "outputs": [
    {
     "name": "stdout",
     "output_type": "stream",
     "text": [
      "      Name  Hours_Studied  Past_Paper_Score  Attendance_Percentage Gender  \\\n",
      "0    Alice              1                35                     70      F   \n",
      "1      Bob              2                45                     75      M   \n",
      "2  Charlie              3                50                     80      M   \n",
      "3    David              4                55                     85      M   \n",
      "4      Eva              5                58                     90      F   \n",
      "\n",
      "   Subject  Final_Score  \n",
      "0     Math           40  \n",
      "1    Tamil           48  \n",
      "2     Math           52  \n",
      "3  English           60  \n",
      "4    Tamil           65  \n"
     ]
    }
   ],
   "source": [
    "\n",
    "\n",
    "\n",
    "df = pd.read_csv(r'C:\\Users\\Sowndariya G\\OneDrive\\Desktop\\AI&ML\\student_performance_dataset (1).csv')\n",
    "print(df.head())\n",
    "\n"
   ]
  },
  {
   "cell_type": "code",
   "execution_count": 44,
   "id": "59e7d4e4",
   "metadata": {},
   "outputs": [
    {
     "name": "stdout",
     "output_type": "stream",
     "text": [
      "       Hours_Studied  Past_Paper_Score  Attendance_Percentage  Final_Score\n",
      "count       10.00000         10.000000              10.000000    10.000000\n",
      "mean         5.50000         61.800000              88.100000    67.000000\n",
      "std          3.02765         16.060995              10.202941    17.275545\n",
      "min          1.00000         35.000000              70.000000    40.000000\n",
      "25%          3.25000         51.250000              81.250000    54.000000\n",
      "50%          5.50000         61.500000              91.000000    68.500000\n",
      "75%          7.75000         73.750000              96.500000    77.250000\n",
      "max         10.00000         85.000000              99.000000    95.000000\n",
      "<class 'pandas.core.frame.DataFrame'>\n",
      "RangeIndex: 10 entries, 0 to 9\n",
      "Data columns (total 7 columns):\n",
      " #   Column                 Non-Null Count  Dtype \n",
      "---  ------                 --------------  ----- \n",
      " 0   Name                   10 non-null     object\n",
      " 1   Hours_Studied          10 non-null     int64 \n",
      " 2   Past_Paper_Score       10 non-null     int64 \n",
      " 3   Attendance_Percentage  10 non-null     int64 \n",
      " 4   Gender                 10 non-null     object\n",
      " 5   Subject                10 non-null     object\n",
      " 6   Final_Score            10 non-null     int64 \n",
      "dtypes: int64(4), object(3)\n",
      "memory usage: 692.0+ bytes\n",
      "None\n"
     ]
    }
   ],
   "source": [
    "print(df.describe())\n",
    "print(df.info())"
   ]
  },
  {
   "cell_type": "code",
   "execution_count": 45,
   "id": "7391c4db",
   "metadata": {},
   "outputs": [
    {
     "name": "stdout",
     "output_type": "stream",
     "text": [
      "Index(['Name', 'Hours_Studied', 'Past_Paper_Score', 'Attendance_Percentage',\n",
      "       'Gender', 'Subject', 'Final_Score'],\n",
      "      dtype='object')\n"
     ]
    }
   ],
   "source": [
    "print(df.columns)\n",
    "\n"
   ]
  },
  {
   "cell_type": "code",
   "execution_count": 46,
   "id": "4b420ed3",
   "metadata": {},
   "outputs": [
    {
     "name": "stdout",
     "output_type": "stream",
     "text": [
      "      Name  Hours_Studied  Past_Paper_Score  Attendance_Percentage Gender  \\\n",
      "2  Charlie              3                50                     80      M   \n",
      "3    David              4                55                     85      M   \n",
      "4      Eva              5                58                     90      F   \n",
      "5    Frank              6                65                     92      M   \n",
      "6    Grace              7                70                     95      F   \n",
      "7   Hannah              8                75                     97      F   \n",
      "8      Ian              9                80                     98      M   \n",
      "9     Jack             10                85                     99      M   \n",
      "\n",
      "   Subject  Final_Score  \n",
      "2     Math           52  \n",
      "3  English           60  \n",
      "4    Tamil           65  \n",
      "5  English           72  \n",
      "6     Math           75  \n",
      "7    Tamil           78  \n",
      "8  English           85  \n",
      "9     Math           95  \n"
     ]
    }
   ],
   "source": [
    "print(df[df['Final_Score'] > 50])\n"
   ]
  },
  {
   "cell_type": "code",
   "execution_count": 47,
   "id": "a60d0f7e",
   "metadata": {},
   "outputs": [],
   "source": [
    "df.columns = df.columns.str.strip()\n"
   ]
  },
  {
   "cell_type": "code",
   "execution_count": 48,
   "id": "64a1e6e6",
   "metadata": {},
   "outputs": [
    {
     "name": "stdout",
     "output_type": "stream",
     "text": [
      "['Name', 'Hours_Studied', 'Past_Paper_Score', 'Attendance_Percentage', 'Gender', 'Subject', 'Final_Score']\n"
     ]
    }
   ],
   "source": [
    "print(df.columns.tolist())\n"
   ]
  },
  {
   "cell_type": "code",
   "execution_count": 49,
   "id": "2a0d170f",
   "metadata": {},
   "outputs": [
    {
     "name": "stdout",
     "output_type": "stream",
     "text": [
      "['Final_Score']\n"
     ]
    }
   ],
   "source": [
    "import difflib\n",
    "print(difflib.get_close_matches(\"final_Score\", df.columns))\n"
   ]
  },
  {
   "cell_type": "code",
   "execution_count": 50,
   "id": "8d85e14e",
   "metadata": {},
   "outputs": [
    {
     "name": "stdout",
     "output_type": "stream",
     "text": [
      "(10, 7)\n"
     ]
    }
   ],
   "source": [
    "print(df.shape)\n",
    "\n"
   ]
  },
  {
   "cell_type": "code",
   "execution_count": 51,
   "id": "1ea94602",
   "metadata": {},
   "outputs": [
    {
     "name": "stdout",
     "output_type": "stream",
     "text": [
      "Name                     0\n",
      "Hours_Studied            0\n",
      "Past_Paper_Score         0\n",
      "Attendance_Percentage    0\n",
      "Gender                   0\n",
      "Subject                  0\n",
      "Final_Score              0\n",
      "dtype: int64\n"
     ]
    }
   ],
   "source": [
    "print(df.isnull().sum())\n"
   ]
  },
  {
   "cell_type": "code",
   "execution_count": 52,
   "id": "54308e0a",
   "metadata": {},
   "outputs": [],
   "source": [
    "df = df.dropna()\n",
    "\n",
    "\n"
   ]
  },
  {
   "cell_type": "code",
   "execution_count": 53,
   "id": "fcd793fc",
   "metadata": {},
   "outputs": [
    {
     "data": {
      "image/png": "[encoded data removed]",
      "text/plain": [
       "<Figure size 640x480 with 1 Axes>"
      ]
     },
     "metadata": {},
     "output_type": "display_data"
    }
   ],
   "source": [
    "sns.scatterplot(x='Hours_Studied', y='Final_Score', data=df)\n",
    "plt.title('Hours_Studied vs Final Score')\n",
    "plt.xlabel('Hours_Studied')\n",
    "plt.ylabel('Final Score')\n",
    "plt.show()\n"
   ]
  },
  {
   "cell_type": "code",
   "execution_count": 54,
   "id": "5e146cc0",
   "metadata": {},
   "outputs": [
    {
     "name": "stdout",
     "output_type": "stream",
     "text": [
      "Subject\n",
      "Math       4\n",
      "Tamil      3\n",
      "English    3\n",
      "Name: count, dtype: int64\n"
     ]
    }
   ],
   "source": [
    "print(df['Subject'].value_counts())"
   ]
  },
  {
   "cell_type": "code",
   "execution_count": 55,
   "id": "68fc0d33",
   "metadata": {},
   "outputs": [
    {
     "name": "stdout",
     "output_type": "stream",
     "text": [
      "[40 48 52 60 65 72 75 78 85 95]\n"
     ]
    }
   ],
   "source": [
    "print(df['Final_Score'].unique())\n"
   ]
  },
  {
   "cell_type": "code",
   "execution_count": 56,
   "id": "4a8db517",
   "metadata": {},
   "outputs": [
    {
     "data": {
      "image/png": "[encoded data removed]",
      "text/plain": [
       "<Figure size 640x480 with 1 Axes>"
      ]
     },
     "metadata": {},
     "output_type": "display_data"
    }
   ],
   "source": [
    "sns.scatterplot(x='Hours_Studied', y='Final_Score', hue='Gender', data=df)\n",
    "plt.title('Hours Studied vs Final Score (by Gender)')\n",
    "plt.xlabel('Hours Studied')\n",
    "plt.ylabel('Final Score')\n",
    "plt.show()\n"
   ]
  },
  {
   "cell_type": "code",
   "execution_count": 57,
   "id": "05f3e8bf",
   "metadata": {},
   "outputs": [
    {
     "data": {
      "image/png": "[encoded data removed]",
      "text/plain": [
       "<Figure size 640x480 with 1 Axes>"
      ]
     },
     "metadata": {},
     "output_type": "display_data"
    }
   ],
   "source": [
    "sns.scatterplot(x='Subject', y='Final_Score', data=df)\n",
    "plt.title('Subject vs Final Score')\n",
    "plt.xlabel('Hours Studied')\n",
    "plt.ylabel('Final Score')\n",
    "plt.show()\n",
    "\n",
    "\n"
   ]
  },
  {
   "cell_type": "code",
   "execution_count": 58,
   "id": "516ede58",
   "metadata": {},
   "outputs": [
    {
     "data": {
      "image/png": "[encoded data removed]",
      "text/plain": [
       "<Figure size 640x480 with 1 Axes>"
      ]
     },
     "metadata": {},
     "output_type": "display_data"
    }
   ],
   "source": [
    "sns.barplot(x='Subject', y='Final_Score', data=df)\n",
    "plt.title('Average Final Score by Subject')\n",
    "plt.xlabel('Subject')\n",
    "plt.ylabel('Average Final Score')\n",
    "plt.show()"
   ]
  },
  {
   "cell_type": "code",
   "execution_count": 59,
   "id": "3e83100f",
   "metadata": {},
   "outputs": [
    {
     "data": {
      "text/plain": [
       "3965.5"
      ]
     },
     "execution_count": 59,
     "metadata": {},
     "output_type": "execute_result"
    }
   ],
   "source": [
    "mean_squared_error(df['Final_Score'], df['Hours_Studied'])"
   ]
  },
  {
   "cell_type": "code",
   "execution_count": 60,
   "id": "57282c9f",
   "metadata": {},
   "outputs": [
    {
     "data": {
      "text/plain": [
       "500.9"
      ]
     },
     "execution_count": 60,
     "metadata": {},
     "output_type": "execute_result"
    }
   ],
   "source": [
    "mean_squared_error(df['Final_Score'], df['Attendance_Percentage'])\n"
   ]
  },
  {
   "cell_type": "code",
   "execution_count": 61,
   "id": "657155c4",
   "metadata": {},
   "outputs": [
    {
     "data": {
      "text/plain": [
       "-13.763588979895756"
      ]
     },
     "execution_count": 61,
     "metadata": {},
     "output_type": "execute_result"
    }
   ],
   "source": [
    "r2_score(df['Final_Score'], df['Hours_Studied'])"
   ]
  },
  {
   "cell_type": "code",
   "execution_count": 62,
   "id": "60840f50",
   "metadata": {},
   "outputs": [
    {
     "data": {
      "text/plain": [
       "-0.8648548026805658"
      ]
     },
     "execution_count": 62,
     "metadata": {},
     "output_type": "execute_result"
    }
   ],
   "source": [
    "r2_score(df['Final_Score'], df['Attendance_Percentage'])"
   ]
  }
 ],
 "metadata": {
  "kernelspec": {
   "display_name": ".venv",
   "language": "python",
   "name": "python3"
  },
  "language_info": {
   "codemirror_mode": {
    "name": "ipython",
    "version": 3
   },
   "file_extension": ".py",
   "mimetype": "text/x-python",
   "name": "python",
   "nbconvert_exporter": "python",
   "pygments_lexer": "ipython3",
   "version": "3.13.5"
  }
 },
 "nbformat": 4,
 "nbformat_minor": 5
}
